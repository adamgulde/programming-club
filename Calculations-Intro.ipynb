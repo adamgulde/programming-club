{
 "cells": [
  {
   "cell_type": "code",
   "execution_count": null,
   "metadata": {},
   "outputs": [],
   "source": [
    "import math"
   ]
  },
  {
   "cell_type": "markdown",
   "metadata": {},
   "source": [
    "*It's very important to have an understanding of programming arithmetic for all computer science, but especially for contest programming. As such this notebook is required reading for all Programming Club members.*"
   ]
  },
  {
   "cell_type": "markdown",
   "metadata": {},
   "source": [
    "# Part 1: Basic Functions\n",
    "Artithmetic functions in python (and computer programming in general) are basically as you'd expect. You can write out an equation similar to you'd write it on paper. \n",
    "\n",
    "Computers are obviously meant to run calculations- that was their initial purpose- so if you can work with numbers rather than other forms of data, your programs typically will run much faster. "
   ]
  },
  {
   "cell_type": "code",
   "execution_count": null,
   "metadata": {},
   "outputs": [],
   "source": [
    "### Take a look at the following code and run it. \n",
    "### The results should be fairly obvious :)\n",
    "\n",
    "answer = 2 + 2\n",
    "print(\"2 + 2 = \", answer)\n",
    "\n",
    "answer = 3 - 5\n",
    "print(\"3 - 5 = \", answer)\n",
    "\n",
    "answer = 2 * 3\n",
    "print(\"2 * 3 = \", answer)"
   ]
  },
  {
   "cell_type": "markdown",
   "metadata": {},
   "source": [
    "Previously we saved our answers to variables, but let's see what else we can do with variables and math!"
   ]
  },
  {
   "cell_type": "code",
   "execution_count": null,
   "metadata": {},
   "outputs": [],
   "source": [
    "### Predict the result before running the code!\n",
    "first_answer = 2 * 5\n",
    "second_answer = 100 - 95\n",
    "\n",
    "third_answer = second_answer * first_answer\n",
    "print(third_answer)"
   ]
  },
  {
   "cell_type": "markdown",
   "metadata": {},
   "source": [
    "### Division in Computer Science\n",
    "Division is particularly curious in computer science. When you divide, you're used to finding a remainder, or a fraction. Computers don't like to give fractions if they don't have to, nor do they like to give decimals if they don't have to. \n",
    "\n",
    "Run the following code to see how the computer seems to be \"wrong.\""
   ]
  },
  {
   "cell_type": "code",
   "execution_count": null,
   "metadata": {},
   "outputs": [],
   "source": [
    "divided_answer = 7 // 2\n",
    "print('7 / 2 =', divided_answer)"
   ]
  },
  {
   "cell_type": "markdown",
   "metadata": {},
   "source": [
    "Python is not the best example of this, but see that the **//** operator does what is called \"integer division.\" It doesn't consider decimals and only finds the quotient with **no** remainder.\n",
    "\n",
    "This may seem useless, but it does prove useful if you only want to work with whole numbers and don't need the precision of decimals. Also, integer division is computationally faster."
   ]
  },
  {
   "cell_type": "code",
   "execution_count": null,
   "metadata": {},
   "outputs": [],
   "source": [
    "divided_answer = 7 / 2\n",
    "print('7 / 2 =', divided_answer)"
   ]
  },
  {
   "cell_type": "markdown",
   "metadata": {},
   "source": [
    "On the other hand, traditional division is also usable in Python with the **/** operator. This will yield a decimal *float* variable when a number another which is not a factor. "
   ]
  },
  {
   "cell_type": "markdown",
   "metadata": {},
   "source": [
    "### Modulus Operator\n",
    "The last unusual operator for division is the modulus operator, which looks like a percent sign (**%**). \n",
    "\n",
    "Modulus is used if you *just* want the remainder of a division operation."
   ]
  },
  {
   "cell_type": "code",
   "execution_count": null,
   "metadata": {},
   "outputs": [],
   "source": [
    "modulus_answer = 7 % 2\n",
    "print('The remainder of 7 / 2 is', modulus_answer)"
   ]
  },
  {
   "cell_type": "markdown",
   "metadata": {},
   "source": [
    "### Challenge:\n",
    "Before running this code, predict what the values of \"ans1\", \"ans2\", \"ans3\", and \"ans4\" will be."
   ]
  },
  {
   "cell_type": "code",
   "execution_count": null,
   "metadata": {},
   "outputs": [],
   "source": [
    "ans1 = 700 % 350 + 25\n",
    "ans2 = 3 / 5 * 2\n",
    "ans3 = 5 // 6 / 5\n",
    "ans4 = 51 % 4 * 3"
   ]
  },
  {
   "cell_type": "code",
   "execution_count": null,
   "metadata": {},
   "outputs": [],
   "source": [
    "### Run this cell to check your answers!\n",
    "print(ans1)\n",
    "print(ans2)\n",
    "print(ans3)\n",
    "print(ans4)"
   ]
  },
  {
   "cell_type": "markdown",
   "metadata": {},
   "source": [
    "Operations in computer programming also follow the order of operations, PEMDAS. This means if you need to force one operation to occur before another, don't be afraid to enclose it in parentheses. "
   ]
  },
  {
   "cell_type": "code",
   "execution_count": null,
   "metadata": {},
   "outputs": [],
   "source": [
    "### WITHOUT CHANGING THE OPERATORS OR VARIABLES, make the print statements true by adding parentheses.\n",
    "ans1 = \n",
    "\n",
    "ans2 = \n",
    "\n",
    "ans3 = \n",
    "\n",
    "print('(5 + 2) * 3 = ')"
   ]
  }
 ],
 "metadata": {
  "kernelspec": {
   "display_name": "Python 3.10.7 64-bit",
   "language": "python",
   "name": "python3"
  },
  "language_info": {
   "codemirror_mode": {
    "name": "ipython",
    "version": 3
   },
   "file_extension": ".py",
   "mimetype": "text/x-python",
   "name": "python",
   "nbconvert_exporter": "python",
   "pygments_lexer": "ipython3",
   "version": "3.10.7"
  },
  "orig_nbformat": 4,
  "vscode": {
   "interpreter": {
    "hash": "aee8b7b246df8f9039afb4144a1f6fd8d2ca17a180786b69acc140d282b71a49"
   }
  }
 },
 "nbformat": 4,
 "nbformat_minor": 2
}
