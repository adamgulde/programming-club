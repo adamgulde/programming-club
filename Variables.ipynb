{
 "cells": [
  {
   "cell_type": "code",
   "execution_count": null,
   "metadata": {},
   "outputs": [],
   "source": [
    "import math"
   ]
  },
  {
   "cell_type": "markdown",
   "metadata": {},
   "source": [
    "# Part One: Variables\n",
    "\n",
    "Variables are just as fundamental as functions in programming. We did look at a type of variable when we talked about parameters, but let's get into more detail!"
   ]
  },
  {
   "cell_type": "markdown",
   "metadata": {},
   "source": [
    "Say you want to list your meals in a day. You could manually type in the **print()** function parameter each meal,\n",
    "\n",
    "*OR* you could save a meal into a variable, then change it throughout the code.\n",
    "\n",
    "Check out the code blocks below to see the differences~"
   ]
  },
  {
   "cell_type": "code",
   "execution_count": null,
   "metadata": {},
   "outputs": [],
   "source": [
    "print('I had this for breakfast: ' + 'Eggs and Ham')\n",
    "print('I had this for lunch: ' + 'Soup and salad')\n",
    "print('I had this for dinner: ' + 'Hot dog')\n",
    "### This could cause problems in more complex scripts, because you have to change that meal manually all the time..."
   ]
  },
  {
   "cell_type": "code",
   "execution_count": null,
   "metadata": {},
   "outputs": [],
   "source": [
    "meal = 'Eggs and Ham'\n",
    "print('I had this for breakfast: ' + meal)\n",
    "meal = 'Soup and salad'\n",
    "print('I had this for lunch: ' + meal)\n",
    "meal = 'Hot dog'\n",
    "print('I had this for dinner: ' + meal)"
   ]
  },
  {
   "cell_type": "markdown",
   "metadata": {},
   "source": [
    "The **meal** followed by the equal (**=**) sign is known as a variable, and whatever is after the equal sign is the *value* of the variable. \n",
    "\n",
    "Defining a variable like this reads the following way: \n",
    "\"The variable 'meal' is assigned the value 'Eggs and Ham'\" (line 1)"
   ]
  },
  {
   "cell_type": "markdown",
   "metadata": {},
   "source": [
    "The above is one example of the use of variables, but here's another. Say you have the following expression: \n",
    "#### 1 + [cos(pi/4)]^2 / (400^2)^(-4.3/3) + ((10%100%1000%10000)/5+e^4)-5.321\n",
    "Which evaluates to an irrational number: 14394952.075648312... "
   ]
  },
  {
   "cell_type": "code",
   "execution_count": null,
   "metadata": {},
   "outputs": [],
   "source": [
    "### In your code, you *could* call that long expression every time you wanted to use the value,\n",
    "def myMathFunctions():\n",
    "    print('I am writing a math function, and I need to use this number: ', 1 + math.pow((math.cos(math.pi/4)), 2) / (math.pow(math.pow(400,2), -4.3/3)) + ((10%100%1000%10000)/5+math.pow(math.e, 4)) - 5.321)\n",
    "    print('Now I am going to say that number again: ', 1 + math.pow((math.cos(math.pi/4)), 2) / (math.pow(math.pow(400,2), -4.3/3)) + ((10%100%1000%10000)/5+math.pow(math.e, 4)) - 5.321)\n",
    "    print('Pause for a second...')\n",
    "    print('And again: ', 1 + math.pow((math.cos(math.pi/4)), 2) / (math.pow(math.pow(400,2), -4.3/3)) + ((10%100%1000%10000)/5+math.pow(math.e, 4)) - 5.321)\n",
    "myMathFunctions()"
   ]
  },
  {
   "cell_type": "code",
   "execution_count": null,
   "metadata": {},
   "outputs": [],
   "source": [
    "# Or you could type in that number everywhere you wanted it:\n",
    "def myMathFunctions():\n",
    "    print('I am writing a math function, and I need to use this number: ', 14394952.075648312)\n",
    "    print('Now I am going to say that number again: ', 14394952.075648312)\n",
    "    print('Pause for a second...')\n",
    "    print('And again: ', 14394952.075648312)\n",
    "myMathFunctions()"
   ]
  },
  {
   "cell_type": "markdown",
   "metadata": {},
   "source": [
    "But both of these scripts look really really really messy. \n",
    "\n",
    "And if Python gives you a simple solution to clean up messy code- you should definitely take it. \n",
    "\n",
    "Let's define a variable with a meaningful name for this value, and use that throughout the code:"
   ]
  },
  {
   "cell_type": "code",
   "execution_count": null,
   "metadata": {},
   "outputs": [],
   "source": [
    "BIG_NUMBER = 1 + math.pow((math.cos(math.pi/4)), 2) / (math.pow(math.pow(400,2), -4.3/3)) + ((10%100%1000%10000)/5+math.pow(math.e, 4)) - 5.321\n",
    "def myMathFunctions():\n",
    "    print('I am writing a math function, and I need to use this number: ', BIG_NUMBER)\n",
    "    print('Now I am going to say that number again: ', BIG_NUMBER)\n",
    "    print('Pause for a second...')\n",
    "    print('And again: ', BIG_NUMBER)\n",
    "myMathFunctions()\n",
    "### Now the code is much more readable, and any time you want to change the number you can do it where you defined it!"
   ]
  },
  {
   "cell_type": "markdown",
   "metadata": {},
   "source": [
    "# Part Two: Variable Types\n",
    "\n",
    "Hopefully you understand at least a little about the usefulness of variables. Now it's important to learn about the different *types* of variables- and some errors you'll come across using them."
   ]
  },
  {
   "cell_type": "markdown",
   "metadata": {},
   "source": [
    "When the computer runs your code and assigns the value of a variable, it expects that variable to act like a certain type. \n",
    "\n",
    "The most common types of variables you'll encounter include the following: \n",
    "- integers: whole numbers (0, 100, -400)\n",
    "- floats: decimal numbers (0.45, -97.7, 14394952.075648312)\n",
    "- Strings: words [and letters] ('hello there', \"i am a string\", 'null') \n",
    "\n",
    "*Notice how strings have either single or double quotes around them*\n",
    "- booleans: a true or false (0, 1)\n",
    "\n",
    "*booleans are useful, but more often than not you won't explicitly use a boolean variable. This will come back in conditional statements ('if statements')*\n",
    "- Lists: a series of variables all within one variable. ([0, 1, 2, 3, 4], ['word one', 'word two', '...', 'word 103'], [100, 'words', 'true', 5.434])\n",
    "\n",
    "*Lists are surrounded by square brackets, and all variables within are separated by commas*\n"
   ]
  },
  {
   "cell_type": "code",
   "execution_count": null,
   "metadata": {},
   "outputs": [],
   "source": [
    "# Using what you know now about variables, correct the following code below to make sure each variable is assigned a proper value!\n",
    "my_integer = 0.5\n",
    "my_second_integer = -100\n",
    "\n",
    "my_string = hello world\n",
    "my_second_string = '20.5342'\n",
    "\n",
    "my_boolean = True\n",
    "\n",
    "my_list = [100, 200, 300, 400]\n",
    "my_second_list = (True, False, True, False, False)\n",
    "\n",
    "my_float = '100.342'\n",
    "my_second_float = 75.0\n",
    "\n",
    "### Ask Adrian or Adam to check your work when you're finished!"
   ]
  },
  {
   "cell_type": "markdown",
   "metadata": {},
   "source": [
    "Oftentimes when your working with different variable types, you will encounter many errors. \n",
    "\n",
    "Arguably the most common is a type-mismatch error, where you attempt to interact two different types in a way they weren't meant to. \n",
    "\n",
    "Run the following code to see:"
   ]
  },
  {
   "cell_type": "code",
   "execution_count": null,
   "metadata": {},
   "outputs": [],
   "source": [
    "added_variables = 'my string' + 100\n",
    "print(added_variables)"
   ]
  },
  {
   "cell_type": "markdown",
   "metadata": {},
   "source": [
    "You should have gotten ```TypeError: can only concatenate str (not \"int\") to str```.\n",
    "\n",
    "What this means is the computer cannot add a string-type variable to a integer-type, they're unlike and are not meant to be added directly.\n",
    "\n",
    "If you wanted to add a number to a string, though, Python does allow you to do so through something called *casting*. Check it out:"
   ]
  },
  {
   "cell_type": "code",
   "execution_count": null,
   "metadata": {},
   "outputs": [],
   "source": [
    "added_variables = 'my string' + str(100)\n",
    "print(added_variables)"
   ]
  },
  {
   "cell_type": "code",
   "execution_count": null,
   "metadata": {},
   "outputs": [],
   "source": [
    "### You could also add a string with only numbers to an integer, like so:\n",
    "added_variables = int('100') + 45\n",
    "print(added_variables)"
   ]
  },
  {
   "cell_type": "code",
   "execution_count": null,
   "metadata": {},
   "outputs": [],
   "source": [
    "### Or if you wanted to remove decimal places from a float, to get an integer:\n",
    "my_old_float = 324.654\n",
    "new_int = int(my_old_float)\n",
    "print('Old float = ', my_old_float, ' \\nNew integer = ', new_int)"
   ]
  },
  {
   "cell_type": "code",
   "execution_count": null,
   "metadata": {},
   "outputs": [],
   "source": [
    "### And the reverse:\n",
    "my_old_int = 34\n",
    "new_float = float(my_old_int)\n",
    "print('Old integer = ', my_old_int, ' \\nNew float = ', new_float)"
   ]
  },
  {
   "cell_type": "markdown",
   "metadata": {},
   "source": [
    "### Hopefully this helps a bit with programming with variables. Once you get more used to them, they'll be very simple to understand and you'll find yourself using them all the time. \n",
    "\n",
    "### Challenge: \n",
    "In the code cell below, using **print()**, *at least 3 variables, and at least 3 variable types*, describe \n",
    "-   your name and age,\n",
    "-   the weather, \n",
    "-   and what your weekend plans look like  "
   ]
  },
  {
   "cell_type": "code",
   "execution_count": null,
   "metadata": {},
   "outputs": [],
   "source": [
    "### Write your challenge code here, and have Adrian or Adam check it!"
   ]
  }
 ],
 "metadata": {
  "kernelspec": {
   "display_name": "Python 3.10.2 64-bit",
   "language": "python",
   "name": "python3"
  },
  "language_info": {
   "codemirror_mode": {
    "name": "ipython",
    "version": 3
   },
   "file_extension": ".py",
   "mimetype": "text/x-python",
   "name": "python",
   "nbconvert_exporter": "python",
   "pygments_lexer": "ipython3",
   "version": "3.10.2"
  },
  "orig_nbformat": 4,
  "vscode": {
   "interpreter": {
    "hash": "92936be54a6a8d2acb6744f5fe232e5c0e3d9787bbd8f4946101d3b25cb03863"
   }
  }
 },
 "nbformat": 4,
 "nbformat_minor": 2
}
