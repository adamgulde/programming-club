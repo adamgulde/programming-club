{
 "cells": [
  {
   "cell_type": "code",
   "execution_count": null,
   "metadata": {},
   "outputs": [],
   "source": [
    "from time import sleep"
   ]
  },
  {
   "cell_type": "markdown",
   "metadata": {},
   "source": [
    "# Part One: The Function\n",
    "Welcome to the introduction to your projects! In this interactive Jupyter notebook you'll learn a bit about the Python programming language through functions."
   ]
  },
  {
   "cell_type": "code",
   "execution_count": null,
   "metadata": {},
   "outputs": [],
   "source": [
    "# The simplest program is known as the Hello World program. In Python, it is one line that looks like this:\n",
    "print('hello world')\n",
    "# Go ahead and click the 'run' arrow to see what this does!"
   ]
  },
  {
   "cell_type": "markdown",
   "metadata": {},
   "source": [
    "It printed below the code box the words *hello world*. You can change the words too to make it say what you want, as long as you keep the quotes ' around the text '"
   ]
  },
  {
   "cell_type": "code",
   "execution_count": null,
   "metadata": {},
   "outputs": [],
   "source": [
    "# This is a function. A function (or method) is a process you run elsewhere in the code to do multiple simpler processes. \n",
    "def myFunction():\n",
    "    print('hello world')\n",
    "# run this and the next cell to see what happens!"
   ]
  },
  {
   "cell_type": "code",
   "execution_count": null,
   "metadata": {},
   "outputs": [],
   "source": [
    "myFunction()"
   ]
  },
  {
   "cell_type": "markdown",
   "metadata": {},
   "source": [
    "See that? It still said *hello world*, but we didn't directly call **print('hello world')**. We called **myFunction()** instead, and it did the same thing!"
   ]
  },
  {
   "cell_type": "markdown",
   "metadata": {},
   "source": [
    "Writing code is made much easier and cleaner when we have a function to do repetitive processes. Say you want to print *hello world* multiple times, with a 1 second delay. "
   ]
  },
  {
   "cell_type": "code",
   "execution_count": null,
   "metadata": {},
   "outputs": [],
   "source": [
    "# Your code *could* look like this:\n",
    "sleep(1)\n",
    "print('hello world')\n",
    "print('hello world')\n",
    "print('hello world')\n",
    "print('hello world')\n",
    "print('hello world')\n",
    "print('hello world')\n",
    "sleep(1)\n",
    "print('hello world')\n",
    "print('hello world')\n",
    "print('hello world')\n",
    "print('hello world')\n",
    "print('hello world')\n",
    "print('hello world')\n",
    "sleep(1)\n",
    "print('hello world')\n",
    "print('hello world')\n",
    "print('hello world')\n",
    "print('hello world')\n",
    "print('hello world')\n",
    "print('hello world')"
   ]
  },
  {
   "cell_type": "markdown",
   "metadata": {},
   "source": [
    "Or, we could define a function to print all those 'hello world's for us."
   ]
  },
  {
   "cell_type": "code",
   "execution_count": null,
   "metadata": {},
   "outputs": [],
   "source": [
    "def printHello():\n",
    "    print('hello world')\n",
    "    print('hello world')\n",
    "    print('hello world')\n",
    "    print('hello world')\n",
    "    print('hello world')\n",
    "    print('hello world')"
   ]
  },
  {
   "cell_type": "code",
   "execution_count": null,
   "metadata": {},
   "outputs": [],
   "source": [
    "# which would make our code look so much cleaner, like this:\n",
    "sleep(1)\n",
    "printHello()\n",
    "sleep(1)\n",
    "printHello()\n",
    "sleep(1)\n",
    "printHello()"
   ]
  },
  {
   "cell_type": "markdown",
   "metadata": {},
   "source": [
    "To recap, a function allows us to run many other simpler functions at once, rather than having to type them all individually. "
   ]
  },
  {
   "cell_type": "markdown",
   "metadata": {},
   "source": [
    "### IMPORTANT NOTES:\n",
    "\n",
    "**myFunction** is the name of the function.\n",
    "\n",
    "\"**def**\" means you're making (defining, declaring) and new function to be ran later in the code. \n",
    "\n",
    "The parenthesis **()** after \"myFunction\" is where we will store parameters (more on this later).\n",
    "\n",
    "The colon (**:**) indicates everything after it, indented, is what you want the function to do.\n",
    "\n",
    "The indented code, the **function body**, is everything the function will do, when called."
   ]
  },
  {
   "cell_type": "markdown",
   "metadata": {},
   "source": [
    "# Part Two: The Parameter\n",
    "\n",
    "Parameters are crucial to more complex functions. The parameter is a certain value you want the function to do something with. \n",
    "\n",
    "Take a look at the **sleep()** function we used earlier. There was a number between the parenthesis **()**, defining how long of a delay we wanted.\n",
    "\n",
    "That number is the *parameter*. "
   ]
  },
  {
   "cell_type": "code",
   "execution_count": null,
   "metadata": {},
   "outputs": [],
   "source": [
    "# Here you can see various delays using different values for the parameter of the sleep function. Note that not all the 'hello world's are printed in equal intervals.\n",
    "print('hello world 1')\n",
    "sleep(0.5)\n",
    "print('hello world 2')\n",
    "sleep(3.1415)\n",
    "print('hello world 3')\n",
    "sleep(1.7)\n",
    "print('hello world 4')"
   ]
  },
  {
   "cell_type": "markdown",
   "metadata": {},
   "source": [
    "If we want to make our functions use a parameter, we have to define it slightly differently. Check out the code block below:"
   ]
  },
  {
   "cell_type": "code",
   "execution_count": null,
   "metadata": {},
   "outputs": [],
   "source": [
    "def myNewFunction(value_1):\n",
    "    print('hello world')"
   ]
  },
  {
   "cell_type": "markdown",
   "metadata": {},
   "source": [
    "See how there's a word between the parenthesis **()**, **value_1**.\n",
    "\n",
    "We can now use this word- or *variable*- throughout our function body.\n",
    "\n",
    "If we don't use it, though, it will not affect the rest of the function body. Run the code cell below to see. "
   ]
  },
  {
   "cell_type": "code",
   "execution_count": null,
   "metadata": {},
   "outputs": [],
   "source": [
    "myNewFunction('hey there!')"
   ]
  },
  {
   "cell_type": "code",
   "execution_count": null,
   "metadata": {},
   "outputs": [],
   "source": [
    "# What if we put this new variable into the print statement of our function? \n",
    "def myNewFunction(value_1):\n",
    "    print(value_1)"
   ]
  },
  {
   "cell_type": "code",
   "execution_count": null,
   "metadata": {},
   "outputs": [],
   "source": [
    "myNewFunction('hey there!')"
   ]
  },
  {
   "cell_type": "markdown",
   "metadata": {},
   "source": [
    "You can also add multiple parameters to use different values throughout your function body. Take a look at the following code and guess what will happen:\n",
    "\n",
    "```python\n",
    "def newFunction(words, number):\n",
    "    sleep(number)\n",
    "    print(words)\n",
    "\n",
    "newFunction('Incredible coding!', 5)\n",
    "```"
   ]
  },
  {
   "cell_type": "markdown",
   "metadata": {},
   "source": [
    "### IMPORTANT NOTES\n",
    "A parameter should be used when you need to add more customization to your function through variables. \n",
    "\n",
    "Most functions you use throughout this year require parameters, so make sure you know what they do. \n",
    "\n",
    "When you want to input words as a value for a function, make sure to put ' quotes ' around the word."
   ]
  },
  {
   "cell_type": "markdown",
   "metadata": {},
   "source": [
    "## Challenge:\n",
    "In the code cell below, write your own function in this cell which will print 'Hello world!', then print 'My name is ______', and then print 'I am writing my first function.' \n",
    "All of these messages should have a 3 second delay between them. "
   ]
  },
  {
   "cell_type": "code",
   "execution_count": null,
   "metadata": {},
   "outputs": [],
   "source": [
    "### write code here!"
   ]
  }
 ],
 "metadata": {
  "kernelspec": {
   "display_name": "Python 3.10.2 64-bit",
   "language": "python",
   "name": "python3"
  },
  "language_info": {
   "codemirror_mode": {
    "name": "ipython",
    "version": 3
   },
   "file_extension": ".py",
   "mimetype": "text/x-python",
   "name": "python",
   "nbconvert_exporter": "python",
   "pygments_lexer": "ipython3",
   "version": "3.10.2"
  },
  "orig_nbformat": 4,
  "vscode": {
   "interpreter": {
    "hash": "92936be54a6a8d2acb6744f5fe232e5c0e3d9787bbd8f4946101d3b25cb03863"
   }
  }
 },
 "nbformat": 4,
 "nbformat_minor": 2
}
